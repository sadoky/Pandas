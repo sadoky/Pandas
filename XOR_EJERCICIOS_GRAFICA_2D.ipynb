{
  "nbformat": 4,
  "nbformat_minor": 0,
  "metadata": {
    "colab": {
      "provenance": [],
      "authorship_tag": "ABX9TyMeLf0Vfl0rAwIBD3v8YoHz",
      "include_colab_link": true
    },
    "kernelspec": {
      "name": "python3",
      "display_name": "Python 3"
    },
    "language_info": {
      "name": "python"
    }
  },
  "cells": [
    {
      "cell_type": "markdown",
      "metadata": {
        "id": "view-in-github",
        "colab_type": "text"
      },
      "source": [
        "<a href=\"https://colab.research.google.com/github/sadoky/Pandas/blob/master/XOR_EJERCICIOS_GRAFICA_2D.ipynb\" target=\"_parent\"><img src=\"https://colab.research.google.com/assets/colab-badge.svg\" alt=\"Open In Colab\"/></a>"
      ]
    },
    {
      "cell_type": "code",
      "execution_count": 14,
      "metadata": {
        "id": "eUlRP71wAx8f"
      },
      "outputs": [],
      "source": [
        "import pandas as pd\n",
        "import numpy as np\n",
        "import matplotlib.pyplot as pl\n",
        "import matplotlib as plt\n",
        "import matplotlib.pyplot as plt\n",
        "import random \n",
        "import operator\n",
        "from mpl_toolkits.mplot3d import Axes3D\n",
        "import numpy as np"
      ]
    },
    {
      "cell_type": "code",
      "source": [
        "in1=[0,1]\n",
        "in2=[1,0]\n",
        "\n",
        "\n",
        "# y=-x+3    and\n",
        "#y=-x+1.5   or \n",
        "\n",
        "peso1=1.7\n",
        "peso2=1.8\n",
        "bias1=-2    # bias intercepto \n",
        "\n",
        "peso3=3.9   # pesos pendiente de la recta \n",
        "peso4=3.5\n",
        "bias2=-1\n",
        "\n",
        "for i in range(2):\n",
        "  for j in range(2):\n",
        "    p1=(peso1*in1[i])+(peso2*in2[j])+bias1   # AND\n",
        "    p2=(peso3*in1[i])+(peso4*in2[j])+bias2   # OR \n",
        "    \n",
        "\n",
        "    if p1 > 0:\n",
        "      AND=1\n",
        "      NAND=0\n",
        "    else:\n",
        "      AND=0\n",
        "      NAND=1\n",
        "\n",
        "    if p2>0:\n",
        "      OR=1\n",
        "      \n",
        "    else:\n",
        "      OR=0\n",
        "    \n",
        "\n",
        "    p3=(OR*peso1)+(peso2*NAND)+bias1\n",
        "\n",
        "    if p3>0:\n",
        "      RES=1\n",
        "      \n",
        "    else:\n",
        "      RES=0\n",
        "\n",
        "    print(RES)\n",
        "      \n",
        "\n",
        "\n",
        "\n",
        "\n",
        "\n"
      ],
      "metadata": {
        "colab": {
          "base_uri": "https://localhost:8080/"
        },
        "id": "yJFDfgaVA5wq",
        "outputId": "c1bad088-338e-42f3-95f4-f2097095ecb5"
      },
      "execution_count": 12,
      "outputs": [
        {
          "output_type": "stream",
          "name": "stdout",
          "text": [
            "1\n",
            "0\n",
            "0\n",
            "1\n"
          ]
        }
      ]
    },
    {
      "cell_type": "code",
      "source": [
        "x1=3\n",
        "y1=5\n",
        "\n",
        "\n",
        "alpha=0.1\n",
        "\n",
        "\n",
        "n=30                                         # numero total de elementos de las listas   \n",
        "\n",
        "edad=[0]*n                                   # se crea el vector vacio con 30 elementos \"edad\"\n",
        "for i in range (n):\n",
        "  edad[i]=random.randint(1,25)               # se asignan valores al azar entre [1,25]\n",
        "\n",
        "\n",
        "notas=[0]*n                                  # se crea el vector vacion con 30 elementos \"notas\"\n",
        "for i in range (n):\n",
        "  notas[i]=random.randint(1,10)  \n",
        "\n",
        "\n",
        "\n",
        "\n",
        "\n",
        "def f(x):\n",
        "  return  (10 -(3*x))/4                        # función lineal \n",
        "\n",
        "x= list(range(1,31))                   # variable independoente de la función lineal \n",
        "y=[f(i) for i in (x)]     \n",
        "\n",
        "\n",
        "def fun(x2):\n",
        "  return  (10.1 -(2.6*x2))/3.5                        # función lineal \n",
        "\n",
        "x2= list(range(1,31))                   # variable independoente de la función lineal \n",
        "y2=[fun(j) for j in (x2)]\n",
        "    \n",
        "\n",
        "def fun2(x3):\n",
        "  return  (11 -(1*x3))/1                       # función lineal \n",
        "\n",
        "x3= list(range(1,31))                   # variable independoente de la función lineal \n",
        "y3=[fun2(k) for k in (x3)]\n",
        "\n",
        "\n",
        "\n",
        "\n",
        "\n",
        "fig, ax = plt.subplots()\n",
        "# plt.plot(edad22,aprobar2,'o')\n",
        "plt.plot(x1,y1,'o')\n",
        "ax.plot(y)\n",
        "\n"
      ],
      "metadata": {
        "colab": {
          "base_uri": "https://localhost:8080/",
          "height": 282
        },
        "id": "RiCSePXOKqpr",
        "outputId": "4f514ec3-3c66-4c23-8d26-6adea203090a"
      },
      "execution_count": 39,
      "outputs": [
        {
          "output_type": "execute_result",
          "data": {
            "text/plain": [
              "[<matplotlib.lines.Line2D at 0x7fad5e1743a0>]"
            ]
          },
          "metadata": {},
          "execution_count": 39
        },
        {
          "output_type": "display_data",
          "data": {
            "text/plain": [
              "<Figure size 432x288 with 1 Axes>"
            ],
            "image/png": "[encoded data removed]"
          },
          "metadata": {
            "needs_background": "light"
          }
        }
      ]
    },
    {
      "cell_type": "code",
      "source": [
        "fig, ax = plt.subplots()\n",
        "# plt.plot(edad22,aprobar2,'o')\n",
        "plt.plot(x1,y1,'o')\n",
        "ax.plot(y2)\n"
      ],
      "metadata": {
        "colab": {
          "base_uri": "https://localhost:8080/",
          "height": 282
        },
        "id": "7mgGoUbXNeNk",
        "outputId": "aec20c95-07a5-41eb-c106-e8462e9cbe71"
      },
      "execution_count": 37,
      "outputs": [
        {
          "output_type": "execute_result",
          "data": {
            "text/plain": [
              "[<matplotlib.lines.Line2D at 0x7fad5e15ea60>]"
            ]
          },
          "metadata": {},
          "execution_count": 37
        },
        {
          "output_type": "display_data",
          "data": {
            "text/plain": [
              "<Figure size 432x288 with 1 Axes>"
            ],
            "image/png": "[encoded data removed]"
          },
          "metadata": {
            "needs_background": "light"
          }
        }
      ]
    },
    {
      "cell_type": "code",
      "source": [
        "fig, ax = plt.subplots()\n",
        "# plt.plot(edad22,aprobar2,'o')\n",
        "plt.plot(x1,y1,'o')\n",
        "ax.plot(y3)"
      ],
      "metadata": {
        "colab": {
          "base_uri": "https://localhost:8080/",
          "height": 282
        },
        "id": "1MaxtwQyO6iZ",
        "outputId": "2d2c618b-543f-499f-b900-942ed176ec5e"
      },
      "execution_count": 40,
      "outputs": [
        {
          "output_type": "execute_result",
          "data": {
            "text/plain": [
              "[<matplotlib.lines.Line2D at 0x7fad5e0b2a60>]"
            ]
          },
          "metadata": {},
          "execution_count": 40
        },
        {
          "output_type": "display_data",
          "data": {
            "text/plain": [
              "<Figure size 432x288 with 1 Axes>"
            ],
            "image/png": "[encoded data removed]"
          },
          "metadata": {
            "needs_background": "light"
          }
        }
      ]
    },
    {
      "cell_type": "code",
      "source": [
        "pesos=[0.5,0.6,1]"
      ],
      "metadata": {
        "id": "KeRH3AiJSord"
      },
      "execution_count": 41,
      "outputs": []
    }
  ]
}