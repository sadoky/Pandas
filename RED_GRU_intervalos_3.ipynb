{
  "nbformat": 4,
  "nbformat_minor": 0,
  "metadata": {
    "colab": {
      "provenance": [],
      "collapsed_sections": [],
      "authorship_tag": "ABX9TyOFAzNYFajPAICvt7jHknyv",
      "include_colab_link": true
    },
    "kernelspec": {
      "name": "python3",
      "display_name": "Python 3"
    },
    "language_info": {
      "name": "python"
    }
  },
  "cells": [
    {
      "cell_type": "markdown",
      "metadata": {
        "id": "view-in-github",
        "colab_type": "text"
      },
      "source": [
        "<a href=\"https://colab.research.google.com/github/sadoky/Pandas/blob/master/RED_GRU_intervalos_3.ipynb\" target=\"_parent\"><img src=\"https://colab.research.google.com/assets/colab-badge.svg\" alt=\"Open In Colab\"/></a>"
      ]
    },
    {
      "cell_type": "code",
      "execution_count": 25,
      "metadata": {
        "id": "_lbWF6hEN9Mo"
      },
      "outputs": [],
      "source": [
        "\n",
        "\n",
        "import numpy as np\n",
        "np.random.seed(4)\n",
        "import matplotlib.pyplot as plt\n",
        "import pandas as pd\n",
        "from sklearn.preprocessing import MinMaxScaler\n",
        "\n",
        "\n",
        "\n",
        "\n",
        "\n",
        "\n",
        "#[dataset['AirTemp'].iloc[0:8700]]"
      ]
    },
    {
      "cell_type": "code",
      "source": [
        "dataset=pd.read_csv('https://raw.githubusercontent.com/sadoky/Pandas/master/1.232462_-77.293538_Solcast_PT5M.csv')\n"
      ],
      "metadata": {
        "id": "4ZfxtYokOHyv"
      },
      "execution_count": 26,
      "outputs": []
    },
    {
      "cell_type": "code",
      "source": [
        "set_entrenamiento1= (dataset[\"Ghi\"].iloc[0:4000])\n",
        "set_validacion1 = dataset[\"Ghi\"].iloc[4000:4039]"
      ],
      "metadata": {
        "id": "XEClOEkoOjen"
      },
      "execution_count": 27,
      "outputs": []
    },
    {
      "cell_type": "code",
      "source": [
        "sc = MinMaxScaler(feature_range=(0,1))\n",
        "set_entrenamiento=set_entrenamiento1.values.reshape(-1,1)\n",
        "set_entrenamiento_escalado = sc.fit_transform(set_entrenamiento)"
      ],
      "metadata": {
        "id": "NkGNO2U6PJhA"
      },
      "execution_count": 28,
      "outputs": []
    },
    {
      "cell_type": "code",
      "source": [
        "time_step = 60\n",
        "X_train = []\n",
        "Y_train = []\n",
        "m = len(set_entrenamiento_escalado)\n",
        "\n",
        "for i in range(time_step,m):\n",
        "    # X: bloques de \"time_step\" datos: 0-time_step, 1-time_step+1, 2-time_step+2, etc\n",
        "    X_train.append(set_entrenamiento_escalado[i-time_step:i,0])\n",
        "\n",
        "    # Y: el siguiente dato\n",
        "    Y_train.append(set_entrenamiento_escalado[i,0])\n",
        "X_train, Y_train = np.array(X_train), np.array(Y_train)"
      ],
      "metadata": {
        "id": "IbqgFeb_la_R"
      },
      "execution_count": 29,
      "outputs": []
    },
    {
      "cell_type": "code",
      "source": [
        "X_train = np.reshape(X_train, (X_train.shape[0], X_train.shape[1], 1))"
      ],
      "metadata": {
        "id": "t_hzKlL2lzf9"
      },
      "execution_count": 30,
      "outputs": []
    },
    {
      "cell_type": "code",
      "source": [
        "from keras.models import Sequential\n",
        "from keras.layers import GRU, Dense"
      ],
      "metadata": {
        "id": "Khz-pGZxl2zz"
      },
      "execution_count": 31,
      "outputs": []
    },
    {
      "cell_type": "code",
      "source": [
        "dim_entrada = (X_train.shape[1],1)\n",
        "dim_salida = 1\n",
        "na = 50"
      ],
      "metadata": {
        "id": "EpM_8ZBOl6Un"
      },
      "execution_count": 32,
      "outputs": []
    },
    {
      "cell_type": "code",
      "source": [
        "modelo = Sequential()"
      ],
      "metadata": {
        "id": "Ja9nmjl1l_wd"
      },
      "execution_count": 33,
      "outputs": []
    },
    {
      "cell_type": "code",
      "source": [
        "modelo.add(GRU(units=na, input_shape=dim_entrada))"
      ],
      "metadata": {
        "id": "fr_pkMwkmAck"
      },
      "execution_count": 34,
      "outputs": []
    },
    {
      "cell_type": "code",
      "source": [
        "modelo.add(Dense(units=dim_salida))"
      ],
      "metadata": {
        "id": "_EwaQyahmTC2"
      },
      "execution_count": 35,
      "outputs": []
    },
    {
      "cell_type": "code",
      "source": [
        "from keras.callbacks import learning_rate_schedule\n",
        "modelo.compile(optimizer=\"adam\", loss='mse')"
      ],
      "metadata": {
        "id": "RR26_7J8mZP2"
      },
      "execution_count": 36,
      "outputs": []
    },
    {
      "cell_type": "code",
      "source": [
        "history=modelo.fit(X_train,Y_train,epochs=20,batch_size=32,verbose=2)\n"
      ],
      "metadata": {
        "colab": {
          "base_uri": "https://localhost:8080/"
        },
        "id": "9FTNNbVwmcuj",
        "outputId": "948fa39c-6c8e-48cd-c230-86aefe388304"
      },
      "execution_count": 37,
      "outputs": [
        {
          "output_type": "stream",
          "name": "stdout",
          "text": [
            "Epoch 1/20\n",
            "124/124 - 5s - loss: 0.0191 - 5s/epoch - 43ms/step\n",
            "Epoch 2/20\n",
            "124/124 - 3s - loss: 0.0021 - 3s/epoch - 27ms/step\n",
            "Epoch 3/20\n",
            "124/124 - 3s - loss: 0.0016 - 3s/epoch - 27ms/step\n",
            "Epoch 4/20\n",
            "124/124 - 3s - loss: 0.0012 - 3s/epoch - 27ms/step\n",
            "Epoch 5/20\n",
            "124/124 - 3s - loss: 0.0011 - 3s/epoch - 26ms/step\n",
            "Epoch 6/20\n",
            "124/124 - 3s - loss: 9.3604e-04 - 3s/epoch - 26ms/step\n",
            "Epoch 7/20\n",
            "124/124 - 3s - loss: 8.4386e-04 - 3s/epoch - 27ms/step\n",
            "Epoch 8/20\n",
            "124/124 - 3s - loss: 7.5730e-04 - 3s/epoch - 27ms/step\n",
            "Epoch 9/20\n",
            "124/124 - 3s - loss: 7.1400e-04 - 3s/epoch - 26ms/step\n",
            "Epoch 10/20\n",
            "124/124 - 3s - loss: 6.5664e-04 - 3s/epoch - 26ms/step\n",
            "Epoch 11/20\n",
            "124/124 - 3s - loss: 6.3803e-04 - 3s/epoch - 27ms/step\n",
            "Epoch 12/20\n",
            "124/124 - 3s - loss: 5.6506e-04 - 3s/epoch - 27ms/step\n",
            "Epoch 13/20\n",
            "124/124 - 3s - loss: 5.3628e-04 - 3s/epoch - 26ms/step\n",
            "Epoch 14/20\n",
            "124/124 - 3s - loss: 5.2336e-04 - 3s/epoch - 27ms/step\n",
            "Epoch 15/20\n",
            "124/124 - 3s - loss: 5.1913e-04 - 3s/epoch - 27ms/step\n",
            "Epoch 16/20\n",
            "124/124 - 3s - loss: 4.7075e-04 - 3s/epoch - 26ms/step\n",
            "Epoch 17/20\n",
            "124/124 - 3s - loss: 4.4625e-04 - 3s/epoch - 27ms/step\n",
            "Epoch 18/20\n",
            "124/124 - 3s - loss: 4.3957e-04 - 3s/epoch - 26ms/step\n",
            "Epoch 19/20\n",
            "124/124 - 3s - loss: 4.0116e-04 - 3s/epoch - 27ms/step\n",
            "Epoch 20/20\n",
            "124/124 - 3s - loss: 3.8752e-04 - 3s/epoch - 27ms/step\n"
          ]
        }
      ]
    },
    {
      "cell_type": "code",
      "source": [
        "\n",
        "\n",
        "history_dict = history.history\n",
        "print(history_dict.keys())"
      ],
      "metadata": {
        "colab": {
          "base_uri": "https://localhost:8080/"
        },
        "id": "ygGZn9RAV0xq",
        "outputId": "cfb62813-8731-4cb2-8307-277badcef34a"
      },
      "execution_count": 38,
      "outputs": [
        {
          "output_type": "stream",
          "name": "stdout",
          "text": [
            "dict_keys(['loss'])\n"
          ]
        }
      ]
    },
    {
      "cell_type": "code",
      "source": [
        "x_test = set_validacion1.values\n",
        "x_test=x_test.reshape(-1,1)\n",
        "x_test = sc.transform(x_test)"
      ],
      "metadata": {
        "id": "0neUEea2nIst"
      },
      "execution_count": 39,
      "outputs": []
    },
    {
      "cell_type": "code",
      "source": [
        "X_test = []\n",
        "for i in range(time_step,len(x_test)):\n",
        "    X_test.append(x_test[i-time_step:i,0])\n",
        "X_test = np.array(X_test)\n"
      ],
      "metadata": {
        "id": "qTsq7sd1nyet"
      },
      "execution_count": 40,
      "outputs": []
    },
    {
      "cell_type": "code",
      "source": [
        "prediccion = modelo.predict(x_test)\n",
        "prediccion = sc.inverse_transform(prediccion)\n",
        "prediccion2=pd.DataFrame(prediccion)\n"
      ],
      "metadata": {
        "id": "RHmgEWIZn2AQ",
        "colab": {
          "base_uri": "https://localhost:8080/"
        },
        "outputId": "6095b95d-35ab-4852-da9a-838731470294"
      },
      "execution_count": 41,
      "outputs": [
        {
          "output_type": "stream",
          "name": "stderr",
          "text": [
            "WARNING:tensorflow:Model was constructed with shape (None, 60, 1) for input KerasTensor(type_spec=TensorSpec(shape=(None, 60, 1), dtype=tf.float32, name='gru_1_input'), name='gru_1_input', description=\"created by layer 'gru_1_input'\"), but it was called on an input with incompatible shape (None, 1, 1).\n"
          ]
        }
      ]
    },
    {
      "cell_type": "code",
      "source": [
        "prediccion2\n"
      ],
      "metadata": {
        "colab": {
          "base_uri": "https://localhost:8080/",
          "height": 1000
        },
        "id": "lOLWLlYwwhqp",
        "outputId": "6afb8d51-4287-4354-9b13-f3c0af4f983d"
      },
      "execution_count": 42,
      "outputs": [
        {
          "output_type": "execute_result",
          "data": {
            "text/plain": [
              "             0\n",
              "0   375.868622\n",
              "1   353.287109\n",
              "2   323.964996\n",
              "3   290.919983\n",
              "4   254.231171\n",
              "5   215.900421\n",
              "6   197.800613\n",
              "7   193.049210\n",
              "8   185.457245\n",
              "9   175.039124\n",
              "10  158.986252\n",
              "11  140.176041\n",
              "12  124.252640\n",
              "13  111.184959\n",
              "14   97.230293\n",
              "15   82.398941\n",
              "16   69.467476\n",
              "17   58.417927\n",
              "18   47.400593\n",
              "19   36.415791\n",
              "20   30.935686\n",
              "21   30.023134\n",
              "22   29.110817\n",
              "23   29.110817\n",
              "24   29.110817\n",
              "25   29.110817\n",
              "26   29.110817\n",
              "27   29.110817\n",
              "28   29.110817\n",
              "29   29.110817\n",
              "30   29.110817\n",
              "31   29.110817\n",
              "32   29.110817\n",
              "33   29.110817\n",
              "34   29.110817\n",
              "35   29.110817\n",
              "36   29.110817\n",
              "37   29.110817\n",
              "38   29.110817"
            ],
            "text/html": [
              "\n",
              "  <div id=\"df-fd961d16-339b-459b-aa71-ad6ad84beea9\">\n",
              "    <div class=\"colab-df-container\">\n",
              "      <div>\n",
              "<style scoped>\n",
              "    .dataframe tbody tr th:only-of-type {\n",
              "        vertical-align: middle;\n",
              "    }\n",
              "\n",
              "    .dataframe tbody tr th {\n",
              "        vertical-align: top;\n",
              "    }\n",
              "\n",
              "    .dataframe thead th {\n",
              "        text-align: right;\n",
              "    }\n",
              "</style>\n",
              "<table border=\"1\" class=\"dataframe\">\n",
              "  <thead>\n",
              "    <tr style=\"text-align: right;\">\n",
              "      <th></th>\n",
              "      <th>0</th>\n",
              "    </tr>\n",
              "  </thead>\n",
              "  <tbody>\n",
              "    <tr>\n",
              "      <th>0</th>\n",
              "      <td>375.868622</td>\n",
              "    </tr>\n",
              "    <tr>\n",
              "      <th>1</th>\n",
              "      <td>353.287109</td>\n",
              "    </tr>\n",
              "    <tr>\n",
              "      <th>2</th>\n",
              "      <td>323.964996</td>\n",
              "    </tr>\n",
              "    <tr>\n",
              "      <th>3</th>\n",
              "      <td>290.919983</td>\n",
              "    </tr>\n",
              "    <tr>\n",
              "      <th>4</th>\n",
              "      <td>254.231171</td>\n",
              "    </tr>\n",
              "    <tr>\n",
              "      <th>5</th>\n",
              "      <td>215.900421</td>\n",
              "    </tr>\n",
              "    <tr>\n",
              "      <th>6</th>\n",
              "      <td>197.800613</td>\n",
              "    </tr>\n",
              "    <tr>\n",
              "      <th>7</th>\n",
              "      <td>193.049210</td>\n",
              "    </tr>\n",
              "    <tr>\n",
              "      <th>8</th>\n",
              "      <td>185.457245</td>\n",
              "    </tr>\n",
              "    <tr>\n",
              "      <th>9</th>\n",
              "      <td>175.039124</td>\n",
              "    </tr>\n",
              "    <tr>\n",
              "      <th>10</th>\n",
              "      <td>158.986252</td>\n",
              "    </tr>\n",
              "    <tr>\n",
              "      <th>11</th>\n",
              "      <td>140.176041</td>\n",
              "    </tr>\n",
              "    <tr>\n",
              "      <th>12</th>\n",
              "      <td>124.252640</td>\n",
              "    </tr>\n",
              "    <tr>\n",
              "      <th>13</th>\n",
              "      <td>111.184959</td>\n",
              "    </tr>\n",
              "    <tr>\n",
              "      <th>14</th>\n",
              "      <td>97.230293</td>\n",
              "    </tr>\n",
              "    <tr>\n",
              "      <th>15</th>\n",
              "      <td>82.398941</td>\n",
              "    </tr>\n",
              "    <tr>\n",
              "      <th>16</th>\n",
              "      <td>69.467476</td>\n",
              "    </tr>\n",
              "    <tr>\n",
              "      <th>17</th>\n",
              "      <td>58.417927</td>\n",
              "    </tr>\n",
              "    <tr>\n",
              "      <th>18</th>\n",
              "      <td>47.400593</td>\n",
              "    </tr>\n",
              "    <tr>\n",
              "      <th>19</th>\n",
              "      <td>36.415791</td>\n",
              "    </tr>\n",
              "    <tr>\n",
              "      <th>20</th>\n",
              "      <td>30.935686</td>\n",
              "    </tr>\n",
              "    <tr>\n",
              "      <th>21</th>\n",
              "      <td>30.023134</td>\n",
              "    </tr>\n",
              "    <tr>\n",
              "      <th>22</th>\n",
              "      <td>29.110817</td>\n",
              "    </tr>\n",
              "    <tr>\n",
              "      <th>23</th>\n",
              "      <td>29.110817</td>\n",
              "    </tr>\n",
              "    <tr>\n",
              "      <th>24</th>\n",
              "      <td>29.110817</td>\n",
              "    </tr>\n",
              "    <tr>\n",
              "      <th>25</th>\n",
              "      <td>29.110817</td>\n",
              "    </tr>\n",
              "    <tr>\n",
              "      <th>26</th>\n",
              "      <td>29.110817</td>\n",
              "    </tr>\n",
              "    <tr>\n",
              "      <th>27</th>\n",
              "      <td>29.110817</td>\n",
              "    </tr>\n",
              "    <tr>\n",
              "      <th>28</th>\n",
              "      <td>29.110817</td>\n",
              "    </tr>\n",
              "    <tr>\n",
              "      <th>29</th>\n",
              "      <td>29.110817</td>\n",
              "    </tr>\n",
              "    <tr>\n",
              "      <th>30</th>\n",
              "      <td>29.110817</td>\n",
              "    </tr>\n",
              "    <tr>\n",
              "      <th>31</th>\n",
              "      <td>29.110817</td>\n",
              "    </tr>\n",
              "    <tr>\n",
              "      <th>32</th>\n",
              "      <td>29.110817</td>\n",
              "    </tr>\n",
              "    <tr>\n",
              "      <th>33</th>\n",
              "      <td>29.110817</td>\n",
              "    </tr>\n",
              "    <tr>\n",
              "      <th>34</th>\n",
              "      <td>29.110817</td>\n",
              "    </tr>\n",
              "    <tr>\n",
              "      <th>35</th>\n",
              "      <td>29.110817</td>\n",
              "    </tr>\n",
              "    <tr>\n",
              "      <th>36</th>\n",
              "      <td>29.110817</td>\n",
              "    </tr>\n",
              "    <tr>\n",
              "      <th>37</th>\n",
              "      <td>29.110817</td>\n",
              "    </tr>\n",
              "    <tr>\n",
              "      <th>38</th>\n",
              "      <td>29.110817</td>\n",
              "    </tr>\n",
              "  </tbody>\n",
              "</table>\n",
              "</div>\n",
              "      <button class=\"colab-df-convert\" onclick=\"convertToInteractive('df-fd961d16-339b-459b-aa71-ad6ad84beea9')\"\n",
              "              title=\"Convert this dataframe to an interactive table.\"\n",
              "              style=\"display:none;\">\n",
              "        \n",
              "  <svg xmlns=\"http://www.w3.org/2000/svg\" height=\"24px\"viewBox=\"0 0 24 24\"\n",
              "       width=\"24px\">\n",
              "    <path d=\"M0 0h24v24H0V0z\" fill=\"none\"/>\n",
              "    <path d=\"M18.56 5.44l.94 2.06.94-2.06 2.06-.94-2.06-.94-.94-2.06-.94 2.06-2.06.94zm-11 1L8.5 8.5l.94-2.06 2.06-.94-2.06-.94L8.5 2.5l-.94 2.06-2.06.94zm10 10l.94 2.06.94-2.06 2.06-.94-2.06-.94-.94-2.06-.94 2.06-2.06.94z\"/><path d=\"M17.41 7.96l-1.37-1.37c-.4-.4-.92-.59-1.43-.59-.52 0-1.04.2-1.43.59L10.3 9.45l-7.72 7.72c-.78.78-.78 2.05 0 2.83L4 21.41c.39.39.9.59 1.41.59.51 0 1.02-.2 1.41-.59l7.78-7.78 2.81-2.81c.8-.78.8-2.07 0-2.86zM5.41 20L4 18.59l7.72-7.72 1.47 1.35L5.41 20z\"/>\n",
              "  </svg>\n",
              "      </button>\n",
              "      \n",
              "  <style>\n",
              "    .colab-df-container {\n",
              "      display:flex;\n",
              "      flex-wrap:wrap;\n",
              "      gap: 12px;\n",
              "    }\n",
              "\n",
              "    .colab-df-convert {\n",
              "      background-color: #E8F0FE;\n",
              "      border: none;\n",
              "      border-radius: 50%;\n",
              "      cursor: pointer;\n",
              "      display: none;\n",
              "      fill: #1967D2;\n",
              "      height: 32px;\n",
              "      padding: 0 0 0 0;\n",
              "      width: 32px;\n",
              "    }\n",
              "\n",
              "    .colab-df-convert:hover {\n",
              "      background-color: #E2EBFA;\n",
              "      box-shadow: 0px 1px 2px rgba(60, 64, 67, 0.3), 0px 1px 3px 1px rgba(60, 64, 67, 0.15);\n",
              "      fill: #174EA6;\n",
              "    }\n",
              "\n",
              "    [theme=dark] .colab-df-convert {\n",
              "      background-color: #3B4455;\n",
              "      fill: #D2E3FC;\n",
              "    }\n",
              "\n",
              "    [theme=dark] .colab-df-convert:hover {\n",
              "      background-color: #434B5C;\n",
              "      box-shadow: 0px 1px 3px 1px rgba(0, 0, 0, 0.15);\n",
              "      filter: drop-shadow(0px 1px 2px rgba(0, 0, 0, 0.3));\n",
              "      fill: #FFFFFF;\n",
              "    }\n",
              "  </style>\n",
              "\n",
              "      <script>\n",
              "        const buttonEl =\n",
              "          document.querySelector('#df-fd961d16-339b-459b-aa71-ad6ad84beea9 button.colab-df-convert');\n",
              "        buttonEl.style.display =\n",
              "          google.colab.kernel.accessAllowed ? 'block' : 'none';\n",
              "\n",
              "        async function convertToInteractive(key) {\n",
              "          const element = document.querySelector('#df-fd961d16-339b-459b-aa71-ad6ad84beea9');\n",
              "          const dataTable =\n",
              "            await google.colab.kernel.invokeFunction('convertToInteractive',\n",
              "                                                     [key], {});\n",
              "          if (!dataTable) return;\n",
              "\n",
              "          const docLinkHtml = 'Like what you see? Visit the ' +\n",
              "            '<a target=\"_blank\" href=https://colab.research.google.com/notebooks/data_table.ipynb>data table notebook</a>'\n",
              "            + ' to learn more about interactive tables.';\n",
              "          element.innerHTML = '';\n",
              "          dataTable['output_type'] = 'display_data';\n",
              "          await google.colab.output.renderOutput(dataTable, element);\n",
              "          const docLink = document.createElement('div');\n",
              "          docLink.innerHTML = docLinkHtml;\n",
              "          element.appendChild(docLink);\n",
              "        }\n",
              "      </script>\n",
              "    </div>\n",
              "  </div>\n",
              "  "
            ]
          },
          "metadata": {},
          "execution_count": 42
        }
      ]
    },
    {
      "cell_type": "code",
      "source": [
        "xaxis=np.arange(start=0,stop=43500,step=5)\n",
        "\n"
      ],
      "metadata": {
        "id": "qwLuSzvXn4eV"
      },
      "execution_count": 43,
      "outputs": []
    },
    {
      "cell_type": "code",
      "source": [
        "url='https://raw.githubusercontent.com/sadoky/Pandas/master/1.232462_-77.293538_Solcast_PT5M.csv'\n",
        "df=pd.read_csv(url)\n",
        "datos_train=df[\"Ghi\"].iloc[0:4000]\n",
        "datos_val=df[\"Ghi\"].iloc[4001:4039]\n",
        "\n",
        "datos_val\n"
      ],
      "metadata": {
        "colab": {
          "base_uri": "https://localhost:8080/"
        },
        "id": "N39tCRL4pCnv",
        "outputId": "3083a1d5-02e6-4e01-dce5-3e91ce2409c7"
      },
      "execution_count": 44,
      "outputs": [
        {
          "output_type": "execute_result",
          "data": {
            "text/plain": [
              "4001    342\n",
              "4002    312\n",
              "4003    278\n",
              "4004    240\n",
              "4005    200\n",
              "4006    181\n",
              "4007    176\n",
              "4008    168\n",
              "4009    157\n",
              "4010    140\n",
              "4011    120\n",
              "4012    103\n",
              "4013     89\n",
              "4014     74\n",
              "4015     58\n",
              "4016     44\n",
              "4017     32\n",
              "4018     20\n",
              "4019      8\n",
              "4020      2\n",
              "4021      1\n",
              "4022      0\n",
              "4023      0\n",
              "4024      0\n",
              "4025      0\n",
              "4026      0\n",
              "4027      0\n",
              "4028      0\n",
              "4029      0\n",
              "4030      0\n",
              "4031      0\n",
              "4032      0\n",
              "4033      0\n",
              "4034      0\n",
              "4035      0\n",
              "4036      0\n",
              "4037      0\n",
              "4038      0\n",
              "Name: Ghi, dtype: int64"
            ]
          },
          "metadata": {},
          "execution_count": 44
        }
      ]
    },
    {
      "cell_type": "code",
      "source": [
        "from numpy.matrixlib.defmatrix import concatenate\n",
        "\n",
        "j=np.zeros(4000,int)\n",
        "pred44=pd.DataFrame(j)\n",
        "pred56=np.asarray(prediccion2,dtype=np.float64)\n",
        "\n",
        "pred56=pred56.reshape(-1,1)\n",
        "pred57=j.reshape(-1,1)\n",
        "pred56\n",
        "\n",
        "\n",
        "\n"
      ],
      "metadata": {
        "colab": {
          "base_uri": "https://localhost:8080/"
        },
        "id": "Surffoak0pIc",
        "outputId": "56247471-933d-44d3-e7ec-23b3fe850910"
      },
      "execution_count": 45,
      "outputs": [
        {
          "output_type": "execute_result",
          "data": {
            "text/plain": [
              "array([[375.86862183],\n",
              "       [353.28710938],\n",
              "       [323.96499634],\n",
              "       [290.91998291],\n",
              "       [254.23117065],\n",
              "       [215.90042114],\n",
              "       [197.8006134 ],\n",
              "       [193.04920959],\n",
              "       [185.45724487],\n",
              "       [175.03912354],\n",
              "       [158.98625183],\n",
              "       [140.17604065],\n",
              "       [124.25263977],\n",
              "       [111.18495941],\n",
              "       [ 97.23029327],\n",
              "       [ 82.39894104],\n",
              "       [ 69.46747589],\n",
              "       [ 58.41792679],\n",
              "       [ 47.4005928 ],\n",
              "       [ 36.41579056],\n",
              "       [ 30.93568611],\n",
              "       [ 30.02313423],\n",
              "       [ 29.11081696],\n",
              "       [ 29.11081696],\n",
              "       [ 29.11081696],\n",
              "       [ 29.11081696],\n",
              "       [ 29.11081696],\n",
              "       [ 29.11081696],\n",
              "       [ 29.11081696],\n",
              "       [ 29.11081696],\n",
              "       [ 29.11081696],\n",
              "       [ 29.11081696],\n",
              "       [ 29.11081696],\n",
              "       [ 29.11081696],\n",
              "       [ 29.11081696],\n",
              "       [ 29.11081696],\n",
              "       [ 29.11081696],\n",
              "       [ 29.11081696],\n",
              "       [ 29.11081696]])"
            ]
          },
          "metadata": {},
          "execution_count": 45
        }
      ]
    },
    {
      "cell_type": "code",
      "source": [
        "lim=np.concatenate((pred57,pred56))\n",
        "lim\n",
        "lim2=pd.DataFrame(lim)\n",
        "prediccion_final=lim2[4000:]"
      ],
      "metadata": {
        "id": "bjUiWJ7kIwr4"
      },
      "execution_count": 46,
      "outputs": []
    },
    {
      "cell_type": "code",
      "source": [
        "fig, ax = plt.subplots(figsize=(9, 4))\n",
        "datos_train.plot(ax=ax, label='train')\n",
        "datos_val.plot(ax=ax, label='test')\n",
        "prediccion_final.plot(ax=ax,label=\"predict\")\n",
        "\n",
        "ax.legend();"
      ],
      "metadata": {
        "colab": {
          "base_uri": "https://localhost:8080/",
          "height": 265
        },
        "id": "MMCRWp2u4h6I",
        "outputId": "7657efc3-e5ab-4d55-f7c4-01451ca45870"
      },
      "execution_count": 47,
      "outputs": [
        {
          "output_type": "display_data",
          "data": {
            "text/plain": [
              "<Figure size 648x288 with 1 Axes>"
            ],
            "image/png": "[encoded data removed]"
          },
          "metadata": {
            "needs_background": "light"
          }
        }
      ]
    },
    {
      "cell_type": "code",
      "source": [
        "fig, ax = plt.subplots(figsize=(9, 4))\n",
        "#datos_train.plot(ax=ax, label='train')\n",
        "datos_val.plot(ax=ax, label='test')\n",
        "lim2.plot(ax=ax, label='predict')\n",
        "plt.xlim(4000,4100)\n",
        "ax.legend();\n",
        "\n",
        "\n",
        "\n"
      ],
      "metadata": {
        "colab": {
          "base_uri": "https://localhost:8080/",
          "height": 265
        },
        "id": "uUJepLsUMLN6",
        "outputId": "982a1e39-f8fc-4c91-afec-f53948781a53"
      },
      "execution_count": 48,
      "outputs": [
        {
          "output_type": "display_data",
          "data": {
            "text/plain": [
              "<Figure size 648x288 with 1 Axes>"
            ],
            "image/png": "[encoded data removed]"
          },
          "metadata": {
            "needs_background": "light"
          }
        }
      ]
    }
  ]
}