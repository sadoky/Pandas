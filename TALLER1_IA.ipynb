{
  "nbformat": 4,
  "nbformat_minor": 0,
  "metadata": {
    "colab": {
      "provenance": [],
      "authorship_tag": "ABX9TyMSJ67L51xtoq2KHLgL6ovQ",
      "include_colab_link": true
    },
    "kernelspec": {
      "name": "python3",
      "display_name": "Python 3"
    },
    "language_info": {
      "name": "python"
    }
  },
  "cells": [
    {
      "cell_type": "markdown",
      "metadata": {
        "id": "view-in-github",
        "colab_type": "text"
      },
      "source": [
        "<a href=\"https://colab.research.google.com/github/sadoky/Pandas/blob/master/TALLER1_IA.ipynb\" target=\"_parent\"><img src=\"https://colab.research.google.com/assets/colab-badge.svg\" alt=\"Open In Colab\"/></a>"
      ]
    },
    {
      "cell_type": "code",
      "source": [
        "# Ejercicio de promedios \n",
        "\n",
        "prom=(23+32+64)/3\n",
        "prom"
      ],
      "metadata": {
        "colab": {
          "base_uri": "https://localhost:8080/"
        },
        "id": "G7mC981V7XyL",
        "outputId": "457543b0-fba2-4789-f339-2c2474f9e736"
      },
      "execution_count": 42,
      "outputs": [
        {
          "output_type": "execute_result",
          "data": {
            "text/plain": [
              "39.666666666666664"
            ]
          },
          "metadata": {},
          "execution_count": 42
        }
      ]
    },
    {
      "cell_type": "code",
      "source": [
        "#Cuantas baldosas se necesitan\n",
        "need=9*7+5*7\n",
        "need\n",
        "#Cuantas sobran\n",
        "full=17*6-(9*7+5*7)\n",
        "full"
      ],
      "metadata": {
        "colab": {
          "base_uri": "https://localhost:8080/"
        },
        "id": "F1wuwywqGuMN",
        "outputId": "11fe0a52-056c-4e4e-ca4d-f952e33f4828"
      },
      "execution_count": 45,
      "outputs": [
        {
          "output_type": "execute_result",
          "data": {
            "text/plain": [
              "4"
            ]
          },
          "metadata": {},
          "execution_count": 45
        }
      ]
    },
    {
      "cell_type": "code",
      "source": [
        "#\n",
        "vol_dep=4.445e8\n",
        "vol_dep"
      ],
      "metadata": {
        "colab": {
          "base_uri": "https://localhost:8080/"
        },
        "id": "VUGVLUB0HGRE",
        "outputId": "d21ee85b-92fc-4511-a852-0e9a72755835"
      },
      "execution_count": 63,
      "outputs": [
        {
          "output_type": "execute_result",
          "data": {
            "text/plain": [
              "444500000.0"
            ]
          },
          "metadata": {},
          "execution_count": 63
        }
      ]
    },
    {
      "cell_type": "code",
      "source": [
        "#CANTIDAD DE LLUVIA\n",
        "lluvia1=5e6\n",
        "\n",
        "#Disminuir la variable lluvia un 10%\n",
        "lluvia1*=0.9\n",
        "lluvia1"
      ],
      "metadata": {
        "colab": {
          "base_uri": "https://localhost:8080/"
        },
        "id": "7XpqqPQ_HPYI",
        "outputId": "233e3947-d975-4a5c-8a2b-e3cf34f0e372"
      },
      "execution_count": 58,
      "outputs": [
        {
          "output_type": "execute_result",
          "data": {
            "text/plain": [
              "4500000.0"
            ]
          },
          "metadata": {},
          "execution_count": 58
        }
      ]
    },
    {
      "cell_type": "code",
      "source": [
        "#AGREGAR LA CANTIDAD DE LLUVIA AL DEPOSITO\n",
        "vol_dep+=lluvia1\n",
        "#VOLUMEN DEL DEPOSITO AUMENTADO UN 5%\n",
        "vol_dep*=1.05\n",
        "#disminuir el volumen del deposito 5%\n",
        "vol_dep*=0.95\n",
        "#RESTAR 2.5e5 al volumen del deposito\n",
        "vol_dep-=2.5e5\n",
        "vol_dep"
      ],
      "metadata": {
        "colab": {
          "base_uri": "https://localhost:8080/"
        },
        "id": "4YrMBCwkHV4y",
        "outputId": "c9213b8a-b4c2-4fe5-8def-852967f7e698"
      },
      "execution_count": 64,
      "outputs": [
        {
          "output_type": "execute_result",
          "data": {
            "text/plain": [
              "447627500.0"
            ]
          },
          "metadata": {},
          "execution_count": 64
        }
      ]
    },
    {
      "cell_type": "code",
      "source": [
        "# Ejercicio del mensaje de acceso \n",
        "\n",
        "username=\"sadoky\"\n",
        "timestap=\"03:12\"\n",
        "url=\"https://www.duolingo.com/learn\"\n",
        "message=username+\" acces the site \"+url+\" at \"+timestap\n",
        "message"
      ],
      "metadata": {
        "colab": {
          "base_uri": "https://localhost:8080/",
          "height": 35
        },
        "id": "PrDYC6aaDFRU",
        "outputId": "3c834a30-de90-45a9-f1ef-c50c61049f9a"
      },
      "execution_count": 57,
      "outputs": [
        {
          "output_type": "execute_result",
          "data": {
            "text/plain": [
              "'sadoky acces the site https://www.duolingo.com/learn at 03:12'"
            ],
            "application/vnd.google.colaboratory.intrinsic+json": {
              "type": "string"
            }
          },
          "metadata": {},
          "execution_count": 57
        }
      ]
    },
    {
      "cell_type": "code",
      "source": [
        "#Ejercicio tamaño del nombre \n",
        "\n",
        "name1=\"santiago\"\n",
        "name2=\"danilo\"\n",
        "\n",
        "apellido=\"Quiroz\"\n",
        "\n",
        "tamaño_del_nombre=len(name1+name2+apellido)\n",
        "tamaño_del_nombre"
      ],
      "metadata": {
        "colab": {
          "base_uri": "https://localhost:8080/"
        },
        "id": "7mnumq-b_vCj",
        "outputId": "a5359976-e023-498c-c1d4-eff3a9480a5a"
      },
      "execution_count": 18,
      "outputs": [
        {
          "output_type": "execute_result",
          "data": {
            "text/plain": [
              "20"
            ]
          },
          "metadata": {},
          "execution_count": 18
        }
      ]
    },
    {
      "cell_type": "code",
      "source": [
        "limite_de_caracteres=28\n",
        "tamaño_del_nombre<=limite_de_caracteres"
      ],
      "metadata": {
        "colab": {
          "base_uri": "https://localhost:8080/"
        },
        "id": "fultuwgcEAYU",
        "outputId": "4e51f913-d746-43dd-e274-a419f41b805f"
      },
      "execution_count": 19,
      "outputs": [
        {
          "output_type": "execute_result",
          "data": {
            "text/plain": [
              "True"
            ]
          },
          "metadata": {},
          "execution_count": 19
        }
      ]
    },
    {
      "cell_type": "code",
      "source": [
        "# Ejercicio total de ventas \n",
        "\n",
        "\n",
        "mon_sales=\"121\"\n",
        "tues_sales=\"105\"\n",
        "wed_sales=\"110\"\n",
        "thrus_sales=\"98\"\n",
        "fri_sales=\"95\"\n",
        "\n",
        "type(mon_sales)\n",
        "type(tues_sales)\n",
        "type(wed_sales)\n",
        "type(thrus_sales)\n",
        "type(fri_sales)"
      ],
      "metadata": {
        "colab": {
          "base_uri": "https://localhost:8080/"
        },
        "id": "3_nUswuDDLD8",
        "outputId": "580d10cf-f397-49a7-afc1-a568e556fa69"
      },
      "execution_count": 22,
      "outputs": [
        {
          "output_type": "execute_result",
          "data": {
            "text/plain": [
              "str"
            ]
          },
          "metadata": {},
          "execution_count": 22
        }
      ]
    },
    {
      "cell_type": "code",
      "source": [
        "var1=int(mon_sales)\n",
        "var2=int(tues_sales)\n",
        "var3=int(wed_sales)\n",
        "var4=int(thrus_sales)\n",
        "var5=int(fri_sales)\n",
        "\n",
        "ventas=var1+var2+var3+var4+var5\n",
        "ventas"
      ],
      "metadata": {
        "colab": {
          "base_uri": "https://localhost:8080/"
        },
        "id": "O6xbyFHaEy4e",
        "outputId": "887a7af5-014e-41cd-d3d6-1ab3c9474972"
      },
      "execution_count": 27,
      "outputs": [
        {
          "output_type": "execute_result",
          "data": {
            "text/plain": [
              "529"
            ]
          },
          "metadata": {},
          "execution_count": 27
        }
      ]
    },
    {
      "cell_type": "code",
      "source": [
        "message_final=\" las ventas totales son  \"+str(ventas)\n",
        "message_final"
      ],
      "metadata": {
        "colab": {
          "base_uri": "https://localhost:8080/",
          "height": 35
        },
        "id": "-cLWFe--FdfM",
        "outputId": "49ed22b9-531c-4389-a23e-5a61e7857c20"
      },
      "execution_count": 41,
      "outputs": [
        {
          "output_type": "execute_result",
          "data": {
            "text/plain": [
              "' las ventas totales son  529'"
            ],
            "application/vnd.google.colaboratory.intrinsic+json": {
              "type": "string"
            }
          },
          "metadata": {},
          "execution_count": 41
        }
      ]
    }
  ]
}