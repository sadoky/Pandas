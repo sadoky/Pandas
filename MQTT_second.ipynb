{
  "nbformat": 4,
  "nbformat_minor": 0,
  "metadata": {
    "colab": {
      "provenance": [],
      "authorship_tag": "ABX9TyNbem60KsqQc5yFMBZP1khF",
      "include_colab_link": true
    },
    "kernelspec": {
      "name": "python3",
      "display_name": "Python 3"
    },
    "language_info": {
      "name": "python"
    }
  },
  "cells": [
    {
      "cell_type": "markdown",
      "metadata": {
        "id": "view-in-github",
        "colab_type": "text"
      },
      "source": [
        "<a href=\"https://colab.research.google.com/github/sadoky/Pandas/blob/master/MQTT_second.ipynb\" target=\"_parent\"><img src=\"https://colab.research.google.com/assets/colab-badge.svg\" alt=\"Open In Colab\"/></a>"
      ]
    },
    {
      "cell_type": "code",
      "execution_count": 1,
      "metadata": {
        "colab": {
          "base_uri": "https://localhost:8080/"
        },
        "id": "EucFaVSm1bN0",
        "outputId": "3829f649-f59e-4c60-8744-5260a9ab5db3"
      },
      "outputs": [
        {
          "output_type": "stream",
          "name": "stdout",
          "text": [
            "Looking in indexes: https://pypi.org/simple, https://us-python.pkg.dev/colab-wheels/public/simple/\n",
            "Collecting paho-mqtt\n",
            "  Downloading paho-mqtt-1.6.1.tar.gz (99 kB)\n",
            "\u001b[K     |████████████████████████████████| 99 kB 3.6 MB/s \n",
            "\u001b[?25hBuilding wheels for collected packages: paho-mqtt\n",
            "  Building wheel for paho-mqtt (setup.py) ... \u001b[?25l\u001b[?25hdone\n",
            "  Created wheel for paho-mqtt: filename=paho_mqtt-1.6.1-py3-none-any.whl size=62132 sha256=d7c86df482af1be6c307700aecd38ae2b28e9699acbb24aedc99891b2889f498\n",
            "  Stored in directory: /root/.cache/pip/wheels/6a/48/01/c895c027e9b9367ec5470fbf371ee56e795a49ac6a19aa4c9f\n",
            "Successfully built paho-mqtt\n",
            "Installing collected packages: paho-mqtt\n",
            "Successfully installed paho-mqtt-1.6.1\n"
          ]
        }
      ],
      "source": [
        "pip install paho-mqtt"
      ]
    },
    {
      "cell_type": "code",
      "source": [
        "pip install python-dotenv "
      ],
      "metadata": {
        "colab": {
          "base_uri": "https://localhost:8080/"
        },
        "id": "pZePdc_U1huV",
        "outputId": "c85c5ad8-c2b4-4a1c-d715-69ec4e1e79d7"
      },
      "execution_count": 2,
      "outputs": [
        {
          "output_type": "stream",
          "name": "stdout",
          "text": [
            "Looking in indexes: https://pypi.org/simple, https://us-python.pkg.dev/colab-wheels/public/simple/\n",
            "Collecting python-dotenv\n",
            "  Downloading python_dotenv-0.21.0-py3-none-any.whl (18 kB)\n",
            "Installing collected packages: python-dotenv\n",
            "Successfully installed python-dotenv-0.21.0\n"
          ]
        }
      ]
    },
    {
      "cell_type": "code",
      "source": [
        "from dotenv import dotenv_values\n",
        "config = dotenv_values(\".env\")"
      ],
      "metadata": {
        "id": "PiUqU9UN1vlq"
      },
      "execution_count": 3,
      "outputs": []
    },
    {
      "cell_type": "code",
      "source": [
        "import random\n",
        "from paho.mqtt import client as mqtt_client\n",
        "import json\n",
        "from datetime import datetime\n"
      ],
      "metadata": {
        "id": "Rm9HGSOq2R75"
      },
      "execution_count": 48,
      "outputs": []
    },
    {
      "cell_type": "code",
      "source": [
        "db_collection = 0"
      ],
      "metadata": {
        "id": "YeqP-SqIB4_w"
      },
      "execution_count": 53,
      "outputs": []
    },
    {
      "cell_type": "code",
      "source": [
        "# Receive Data\n",
        "# Connection Callback\n",
        "cont=0\n",
        "num=[]\n",
        "def on_connect(client, userdata, flags, rc):\n",
        "    print(\"temperatur  \" + str(rc))\n",
        "    client.subscribe(\"weatherStation\")\n",
        "# On Data Received Callback\n",
        "def on_message(client, userdata, msg):\n",
        "   global mensaje\n",
        "   \n",
        "   mensaje=json.loads(msg.payload)\n",
        "   print(msg.topic + \" \" + str(msg.payload))\n",
        "   print(mensaje)\n",
        "\n",
        "   \n",
        "   lol=mensaje[\"data\"][\"irrad\"]\n",
        "   num.insert(cont,lol)\n",
        "   print(num)\n",
        "   \n",
        "\n",
        "# Leemos los datos y los agregamos a la lista\n",
        "   \n",
        "      \n",
        "\n",
        "    \n",
        "\n",
        "# Ahora mostremos las listas\n",
        "\n",
        "\n",
        "\n",
        "\n",
        "\n",
        "\n",
        "      # Convert from json to python\n",
        "   \n",
        "    # Set date if not in data\n",
        "\n",
        "\n",
        "\n",
        "\n",
        "\n",
        "#////////////////////////////////////////////###\n",
        "\n",
        "\n",
        "# Generate a random client ID\n",
        "client_id = f'python-mqtt-{random.randint(0, 10000)}'\n",
        "# Create a new MQTT client instance\n",
        "client = mqtt_client.Client(client_id=client_id)\n",
        "\n",
        "\n",
        "\n",
        "client.username_pw_set(\n",
        "  username=\"campusVerde\",\n",
        "   password=\"2m7eY8DDUU3MNQFcVN4LmDuvEv7a8LB2\"\n",
        " )\n",
        "\n",
        "# Start Connection\n",
        "client.connect(\"campusverde.udenar.edu.co\",1884, 60)\n",
        "\n",
        "# Setup Callbacks\n",
        "client.on_connect = on_connect  # Attach the on_connect function to the client\n",
        "client.on_message = on_message  # Attach the on_message function to the client\n",
        "\n",
        "# Start MQTT Client loop\n",
        "client.loop_forever()"
      ],
      "metadata": {
        "colab": {
          "base_uri": "https://localhost:8080/"
        },
        "id": "JfHl-wdF4e9V",
        "outputId": "ff670cab-563a-4806-cae0-8f57201e80db"
      },
      "execution_count": null,
      "outputs": [
        {
          "output_type": "stream",
          "name": "stdout",
          "text": [
            "temperatur  0\n",
            "weatherStation b'{\"date\": 1672374900, \"macAddress\": \"b8:27:eb:ad:53:52\", \"data\": {\"temp\": 14.5, \"hum\": 83.5, \"irrad\": 2.2, \"speed\": 14.0, \"direction\": 64.0, \"rain\": 0.3}}'\n",
            "{'date': 1672374900, 'macAddress': 'b8:27:eb:ad:53:52', 'data': {'temp': 14.5, 'hum': 83.5, 'irrad': 2.2, 'speed': 14.0, 'direction': 64.0, 'rain': 0.3}}\n",
            "[2.2]\n",
            "weatherStation b'{\"date\": 1672375019, \"macAddress\": \"b8:27:eb:ad:53:52\", \"data\": {\"temp\": 14.5, \"hum\": 83.5, \"irrad\": 2.2, \"speed\": 14.0, \"direction\": 74.0, \"rain\": 0.3}}'\n",
            "{'date': 1672375019, 'macAddress': 'b8:27:eb:ad:53:52', 'data': {'temp': 14.5, 'hum': 83.5, 'irrad': 2.2, 'speed': 14.0, 'direction': 74.0, 'rain': 0.3}}\n",
            "[2.2, 2.2]\n",
            "weatherStation b'{\"date\": 1672375146, \"macAddress\": \"b8:27:eb:ad:53:52\", \"data\": {\"temp\": 14.5, \"hum\": 83.4, \"irrad\": 2.2, \"speed\": 13.0, \"direction\": 67.0, \"rain\": 0.3}}'\n",
            "{'date': 1672375146, 'macAddress': 'b8:27:eb:ad:53:52', 'data': {'temp': 14.5, 'hum': 83.4, 'irrad': 2.2, 'speed': 13.0, 'direction': 67.0, 'rain': 0.3}}\n",
            "[2.2, 2.2, 2.2]\n",
            "weatherStation b'{\"date\": 1672375263, \"macAddress\": \"b8:27:eb:ad:53:52\", \"data\": {\"temp\": 14.5, \"hum\": 83.5, \"irrad\": 2.2, \"speed\": 8.0, \"direction\": 76.0, \"rain\": 0.3}}'\n",
            "{'date': 1672375263, 'macAddress': 'b8:27:eb:ad:53:52', 'data': {'temp': 14.5, 'hum': 83.5, 'irrad': 2.2, 'speed': 8.0, 'direction': 76.0, 'rain': 0.3}}\n",
            "[2.2, 2.2, 2.2, 2.2]\n",
            "weatherStation b'{\"date\": 1672375383, \"macAddress\": \"b8:27:eb:ad:53:52\", \"data\": {\"temp\": 14.5, \"hum\": 83.6, \"irrad\": 2.2, \"speed\": 10.0, \"direction\": 63.0, \"rain\": 0.3}}'\n",
            "{'date': 1672375383, 'macAddress': 'b8:27:eb:ad:53:52', 'data': {'temp': 14.5, 'hum': 83.6, 'irrad': 2.2, 'speed': 10.0, 'direction': 63.0, 'rain': 0.3}}\n",
            "[2.2, 2.2, 2.2, 2.2, 2.2]\n",
            "weatherStation b'{\"date\": 1672375500, \"macAddress\": \"b8:27:eb:ad:53:52\", \"data\": {\"temp\": 14.4, \"hum\": 83.7, \"irrad\": 2.2, \"speed\": 6.0, \"direction\": 65.0, \"rain\": 0.3}}'\n",
            "{'date': 1672375500, 'macAddress': 'b8:27:eb:ad:53:52', 'data': {'temp': 14.4, 'hum': 83.7, 'irrad': 2.2, 'speed': 6.0, 'direction': 65.0, 'rain': 0.3}}\n",
            "[2.2, 2.2, 2.2, 2.2, 2.2, 2.2]\n",
            "weatherStation b'{\"date\": 1672375627, \"macAddress\": \"b8:27:eb:ad:53:52\", \"data\": {\"temp\": 14.4, \"hum\": 83.8, \"irrad\": 2.2, \"speed\": 7.0, \"direction\": 70.0, \"rain\": 0.3}}'\n",
            "{'date': 1672375627, 'macAddress': 'b8:27:eb:ad:53:52', 'data': {'temp': 14.4, 'hum': 83.8, 'irrad': 2.2, 'speed': 7.0, 'direction': 70.0, 'rain': 0.3}}\n",
            "[2.2, 2.2, 2.2, 2.2, 2.2, 2.2, 2.2]\n"
          ]
        }
      ]
    },
    {
      "cell_type": "code",
      "source": [
        "lol=mensaje[\"data\"][\"irrad\"]\n",
        "lol"
      ],
      "metadata": {
        "colab": {
          "base_uri": "https://localhost:8080/"
        },
        "id": "YmgO8bMnHLoz",
        "outputId": "55d36266-7604-4720-bc95-34488cbe8168"
      },
      "execution_count": 61,
      "outputs": [
        {
          "output_type": "execute_result",
          "data": {
            "text/plain": [
              "2.2"
            ]
          },
          "metadata": {},
          "execution_count": 61
        }
      ]
    }
  ]
}